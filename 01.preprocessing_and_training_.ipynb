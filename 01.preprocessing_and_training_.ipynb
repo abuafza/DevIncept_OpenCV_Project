{
  "nbformat": 4,
  "nbformat_minor": 0,
  "metadata": {
    "colab": {
      "name": "preprocessing and training .ipynb",
      "provenance": [],
      "collapsed_sections": []
    },
    "kernelspec": {
      "name": "python3",
      "display_name": "Python 3"
    },
    "language_info": {
      "name": "python"
    },
    "accelerator": "GPU"
  },
  "cells": [
    {
      "cell_type": "code",
      "metadata": {
        "colab": {
          "base_uri": "https://localhost:8080/"
        },
        "id": "HijJjTTe-46z",
        "outputId": "a2425a86-43da-480c-9480-672df1551f60"
      },
      "source": [
        "from google.colab import drive\n",
        "drive.mount('/content/drive')"
      ],
      "execution_count": 12,
      "outputs": [
        {
          "output_type": "stream",
          "text": [
            "Drive already mounted at /content/drive; to attempt to forcibly remount, call drive.mount(\"/content/drive\", force_remount=True).\n"
          ],
          "name": "stdout"
        }
      ]
    },
    {
      "cell_type": "code",
      "metadata": {
        "colab": {
          "base_uri": "https://localhost:8080/"
        },
        "id": "M5TCMh7pBb3q",
        "outputId": "764415ed-89d4-4ef0-ab90-e9caadc906ae"
      },
      "source": [
        "import cv2,os\n",
        "\n",
        "data_path='/content/drive/MyDrive/dataset'\n",
        "categories=os.listdir(data_path)\n",
        "labels=[i for i in range(len(categories))]\n",
        "\n",
        "label_dict=dict(zip(categories,labels)) #empty dictionary\n",
        "\n",
        "print(label_dict)\n",
        "print(categories)\n",
        "print(labels)"
      ],
      "execution_count": 15,
      "outputs": [
        {
          "output_type": "stream",
          "text": [
            "{'without mask': 0, 'with mask': 1, '.ipynb_checkpoints': 2}\n",
            "['without mask', 'with mask', '.ipynb_checkpoints']\n",
            "[0, 1, 2]\n"
          ],
          "name": "stdout"
        }
      ]
    },
    {
      "cell_type": "code",
      "metadata": {
        "id": "uKMkKuuZCKk9"
      },
      "source": [
        "img_size=100\n",
        "data=[]\n",
        "target=[]\n",
        "\n",
        "\n",
        "for category in categories:\n",
        "    folder_path=os.path.join(data_path,category)\n",
        "    img_names=os.listdir(folder_path)\n",
        "        \n",
        "    for img_name in img_names:\n",
        "        img_path=os.path.join(folder_path,img_name)\n",
        "        img=cv2.imread(img_path)\n",
        "\n",
        "        try:\n",
        "            gray=cv2.cvtColor(img,cv2.COLOR_BGR2GRAY)           \n",
        "            #Coverting the image into gray scale\n",
        "            resized=cv2.resize(gray,(img_size,img_size))\n",
        "            #resizing the gray scale into 50x50, since we need a fixed common size for all the images in the dataset\n",
        "            data.append(resized)\n",
        "            target.append(label_dict[category])\n",
        "            #appending the image and the label(categorized) into the list (dataset)\n",
        "\n",
        "        except Exception as e:\n",
        "            print('Exception:',e)\n",
        "            #if any exception rasied, the exception will be printed here. And pass to the next image"
      ],
      "execution_count": 16,
      "outputs": []
    },
    {
      "cell_type": "code",
      "metadata": {
        "id": "u8jvEfZ9CS0B"
      },
      "source": [
        "import numpy as np\n",
        "\n",
        "data=np.array(data)/255.0\n",
        "data=np.reshape(data,(data.shape[0],img_size,img_size,1))\n",
        "target=np.array(target)\n",
        "\n",
        "from keras.utils import np_utils\n",
        "\n",
        "new_target=np_utils.to_categorical(target)"
      ],
      "execution_count": 17,
      "outputs": []
    },
    {
      "cell_type": "code",
      "metadata": {
        "id": "NsA8zMTPCZCF"
      },
      "source": [
        "np.save('/content/drive/MyDrive/data.zip (Unzipped Files)/data',data)\n",
        "np.save('/content/drive/MyDrive/data.zip (Unzipped Files)/target',new_target)"
      ],
      "execution_count": 18,
      "outputs": []
    },
    {
      "cell_type": "code",
      "metadata": {
        "id": "KkRpdpE6C6i4"
      },
      "source": [
        "import numpy as np\n",
        "\n",
        "data=np.load('/content/drive/MyDrive/data.zip (Unzipped Files)/data.npy')\n",
        "target=np.load('/content/drive/MyDrive/data.zip (Unzipped Files)/target.npy')"
      ],
      "execution_count": 21,
      "outputs": []
    },
    {
      "cell_type": "code",
      "metadata": {
        "id": "H44QqUMrDl7h"
      },
      "source": [
        "from keras.models import Sequential\n",
        "from keras.layers import Dense,Activation,Flatten,Dropout\n",
        "from keras.layers import Conv2D,MaxPooling2D\n",
        "from keras.callbacks import ModelCheckpoint\n",
        "\n",
        "model=Sequential()\n",
        "\n",
        "model.add(Conv2D(200,(3,3),input_shape=data.shape[1:]))\n",
        "model.add(Activation('relu'))\n",
        "model.add(MaxPooling2D(pool_size=(2,2)))\n",
        "#The first CNN layer followed by Relu and MaxPooling layers\n",
        "\n",
        "model.add(Conv2D(100,(3,3)))\n",
        "model.add(Activation('relu'))\n",
        "model.add(MaxPooling2D(pool_size=(2,2)))\n",
        "#The second convolution layer followed by Relu and MaxPooling layers\n",
        "\n",
        "model.add(Flatten())\n",
        "model.add(Dropout(0.5))\n",
        "#Flatten layer to stack the output convolutions from second convolution layer\n",
        "model.add(Dense(50,activation='relu'))\n",
        "#Dense layer of 64 neurons\n",
        "model.add(Dense(2,activation='softmax'))\n",
        "#The Final layer with two outputs for two categories\n",
        "\n",
        "model.compile(loss='categorical_crossentropy',optimizer='adam',metrics=['accuracy'])"
      ],
      "execution_count": 22,
      "outputs": []
    },
    {
      "cell_type": "code",
      "metadata": {
        "id": "5U3YIp2JDo6R"
      },
      "source": [
        "from sklearn.model_selection import train_test_split\n",
        "\n",
        "train_data,test_data,train_target,test_target=train_test_split(data,target,test_size=0.1)"
      ],
      "execution_count": 23,
      "outputs": []
    },
    {
      "cell_type": "code",
      "metadata": {
        "colab": {
          "base_uri": "https://localhost:8080/"
        },
        "id": "6DRKGzbrDvqY",
        "outputId": "0187ea57-db90-4a98-af79-b5745234adbd"
      },
      "source": [
        "checkpoint = ModelCheckpoint('model-{epoch:03d}.model',monitor='val_loss',verbose=0,save_best_only=True,mode='auto')\n",
        "history=model.fit(train_data,train_target,epochs=20,callbacks=[checkpoint],validation_split=0.2)"
      ],
      "execution_count": 24,
      "outputs": [
        {
          "output_type": "stream",
          "text": [
            "Epoch 1/20\n",
            "31/31 [==============================] - 36s 80ms/step - loss: 0.8200 - accuracy: 0.4775 - val_loss: 0.6746 - val_accuracy: 0.4960\n",
            "INFO:tensorflow:Assets written to: model-001.model/assets\n",
            "Epoch 2/20\n",
            "31/31 [==============================] - 1s 46ms/step - loss: 0.6651 - accuracy: 0.5880 - val_loss: 0.6075 - val_accuracy: 0.6250\n",
            "INFO:tensorflow:Assets written to: model-002.model/assets\n",
            "Epoch 3/20\n",
            "31/31 [==============================] - 1s 46ms/step - loss: 0.5387 - accuracy: 0.7203 - val_loss: 0.3851 - val_accuracy: 0.8508\n",
            "INFO:tensorflow:Assets written to: model-003.model/assets\n",
            "Epoch 4/20\n",
            "31/31 [==============================] - 1s 46ms/step - loss: 0.3970 - accuracy: 0.8199 - val_loss: 0.3261 - val_accuracy: 0.8306\n",
            "INFO:tensorflow:Assets written to: model-004.model/assets\n",
            "Epoch 5/20\n",
            "31/31 [==============================] - 1s 46ms/step - loss: 0.2677 - accuracy: 0.8975 - val_loss: 0.2830 - val_accuracy: 0.8911\n",
            "INFO:tensorflow:Assets written to: model-005.model/assets\n",
            "Epoch 6/20\n",
            "31/31 [==============================] - 1s 46ms/step - loss: 0.2255 - accuracy: 0.9251 - val_loss: 0.2202 - val_accuracy: 0.9194\n",
            "INFO:tensorflow:Assets written to: model-006.model/assets\n",
            "Epoch 7/20\n",
            "31/31 [==============================] - 1s 46ms/step - loss: 0.1520 - accuracy: 0.9416 - val_loss: 0.1962 - val_accuracy: 0.9234\n",
            "INFO:tensorflow:Assets written to: model-007.model/assets\n",
            "Epoch 8/20\n",
            "31/31 [==============================] - 1s 46ms/step - loss: 0.1068 - accuracy: 0.9659 - val_loss: 0.2110 - val_accuracy: 0.9274\n",
            "Epoch 9/20\n",
            "31/31 [==============================] - 1s 46ms/step - loss: 0.1049 - accuracy: 0.9645 - val_loss: 0.1881 - val_accuracy: 0.9476\n",
            "INFO:tensorflow:Assets written to: model-009.model/assets\n",
            "Epoch 10/20\n",
            "31/31 [==============================] - 1s 46ms/step - loss: 0.0901 - accuracy: 0.9700 - val_loss: 0.2027 - val_accuracy: 0.9395\n",
            "Epoch 11/20\n",
            "31/31 [==============================] - 1s 46ms/step - loss: 0.0892 - accuracy: 0.9705 - val_loss: 0.2158 - val_accuracy: 0.9315\n",
            "Epoch 12/20\n",
            "31/31 [==============================] - 1s 46ms/step - loss: 0.0583 - accuracy: 0.9835 - val_loss: 0.1953 - val_accuracy: 0.9476\n",
            "Epoch 13/20\n",
            "31/31 [==============================] - 1s 46ms/step - loss: 0.0569 - accuracy: 0.9798 - val_loss: 0.2298 - val_accuracy: 0.9315\n",
            "Epoch 14/20\n",
            "31/31 [==============================] - 1s 46ms/step - loss: 0.0732 - accuracy: 0.9766 - val_loss: 0.2760 - val_accuracy: 0.9194\n",
            "Epoch 15/20\n",
            "31/31 [==============================] - 1s 46ms/step - loss: 0.0952 - accuracy: 0.9606 - val_loss: 0.2267 - val_accuracy: 0.9556\n",
            "Epoch 16/20\n",
            "31/31 [==============================] - 1s 46ms/step - loss: 0.0248 - accuracy: 0.9942 - val_loss: 0.2252 - val_accuracy: 0.9516\n",
            "Epoch 17/20\n",
            "31/31 [==============================] - 1s 46ms/step - loss: 0.0270 - accuracy: 0.9891 - val_loss: 0.1993 - val_accuracy: 0.9556\n",
            "Epoch 18/20\n",
            "31/31 [==============================] - 1s 46ms/step - loss: 0.0527 - accuracy: 0.9850 - val_loss: 0.2233 - val_accuracy: 0.9516\n",
            "Epoch 19/20\n",
            "31/31 [==============================] - 1s 46ms/step - loss: 0.0627 - accuracy: 0.9777 - val_loss: 0.2157 - val_accuracy: 0.9556\n",
            "Epoch 20/20\n",
            "31/31 [==============================] - 1s 46ms/step - loss: 0.0377 - accuracy: 0.9914 - val_loss: 0.2017 - val_accuracy: 0.9435\n"
          ],
          "name": "stdout"
        }
      ]
    },
    {
      "cell_type": "code",
      "metadata": {
        "colab": {
          "base_uri": "https://localhost:8080/",
          "height": 279
        },
        "id": "MTSWFxxPEE3H",
        "outputId": "5a71ca88-5b00-409a-d50c-a449655c6a74"
      },
      "source": [
        "from matplotlib import pyplot as plt\n",
        "\n",
        "plt.plot(history.history['loss'],'r',label='training loss')\n",
        "plt.plot(history.history['val_loss'],label='validation loss')\n",
        "plt.xlabel('# epochs')\n",
        "plt.ylabel('loss')\n",
        "plt.legend()\n",
        "plt.show()"
      ],
      "execution_count": 25,
      "outputs": [
        {
          "output_type": "display_data",
          "data": {
            "image/png": "[encoded data removed]",
            "text/plain": [
              "<Figure size 432x288 with 1 Axes>"
            ]
          },
          "metadata": {
            "tags": [],
            "needs_background": "light"
          }
        }
      ]
    },
    {
      "cell_type": "code",
      "metadata": {
        "colab": {
          "base_uri": "https://localhost:8080/",
          "height": 279
        },
        "id": "mq0o4J2bER6v",
        "outputId": "9adc7277-7a41-4895-d885-5be0b4949bff"
      },
      "source": [
        "plt.plot(history.history['accuracy'],'r',label='training accuracy')\n",
        "plt.plot(history.history['val_accuracy'],label='validation accuracy')\n",
        "plt.xlabel('# epochs')\n",
        "plt.ylabel('loss')\n",
        "plt.legend()\n",
        "plt.show()"
      ],
      "execution_count": 26,
      "outputs": [
        {
          "output_type": "display_data",
          "data": {
            "image/png": "[encoded data removed]",
            "text/plain": [
              "<Figure size 432x288 with 1 Axes>"
            ]
          },
          "metadata": {
            "tags": [],
            "needs_background": "light"
          }
        }
      ]
    },
    {
      "cell_type": "code",
      "metadata": {
        "colab": {
          "base_uri": "https://localhost:8080/"
        },
        "id": "FI-UHF6MEXdJ",
        "outputId": "9d7bcb1c-06d1-4093-cd46-231844dc222d"
      },
      "source": [
        "print(model.evaluate(test_data,test_target))"
      ],
      "execution_count": 27,
      "outputs": [
        {
          "output_type": "stream",
          "text": [
            "5/5 [==============================] - 0s 65ms/step - loss: 0.1736 - accuracy: 0.9565\n",
            "[0.17362749576568604, 0.95652174949646]\n"
          ],
          "name": "stdout"
        }
      ]
    }
  ]
}